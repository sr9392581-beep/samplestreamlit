{
  "nbformat": 4,
  "nbformat_minor": 0,
  "metadata": {
    "colab": {
      "provenance": []
    },
    "kernelspec": {
      "name": "python3",
      "display_name": "Python 3"
    },
    "language_info": {
      "name": "python"
    }
  },
  "cells": [
    {
      "cell_type": "markdown",
      "source": [
        "Exercise - 4 Sales Data Analysis (retail)"
      ],
      "metadata": {
        "id": "VUWmlYfrOInD"
      }
    },
    {
      "cell_type": "code",
      "source": [
        "import pandas as pd\n",
        "data = {\n",
        "    'product': ['laptop', 'phone', 'tablet', 'camera', 'headset'],\n",
        "    'Mon':[5, 10, 4, 2, 8],\n",
        "    'Tue':[6, 12, 5, 3, 9],\n",
        "    'Wed':[3, 11, 2, 1, 7],\n",
        "    'Thu':[4, 9, 3, 2, 6],\n",
        "    'Fri':[3, 13, 2, 5, 10],\n",
        "    'Sat':[8, 15, 6, 5, 11],\n",
        "    'Sun':[6, 14, 4, 3, 9],\n",
        "\n",
        "}\n",
        "df = pd.DataFrame(data)\n",
        "print(df)\n",
        "df['total sales'] = df.iloc[:, 1:].sum(axis=1)\n",
        "print(df)\n",
        "best_product = df.iloc[df['total sales'].idxmax(), df.columns.get_loc('product')]\n",
        "print('The best selling product is:', best_product)\n",
        "avg_sales_per_day = df.iloc[:, 1:-1].mean()\n",
        "print('Average sales per day:', avg_sales_per_day)\n",
        "sorted_df = df.sort_values(by='total sales', ascending=False)\n",
        "print(sorted_df)"
      ],
      "metadata": {
        "colab": {
          "base_uri": "https://localhost:8080/"
        },
        "id": "8M7EdnwwObkd",
        "outputId": "6bee880c-59b4-46b6-df5d-125144a909e4"
      },
      "execution_count": 5,
      "outputs": [
        {
          "output_type": "stream",
          "name": "stdout",
          "text": [
            "   product  Mon  Tue  Wed  Thu  Fri  Sat  Sun\n",
            "0   laptop    5    6    3    4    3    8    6\n",
            "1    phone   10   12   11    9   13   15   14\n",
            "2   tablet    4    5    2    3    2    6    4\n",
            "3   camera    2    3    1    2    5    5    3\n",
            "4  headset    8    9    7    6   10   11    9\n",
            "   product  Mon  Tue  Wed  Thu  Fri  Sat  Sun  total sales\n",
            "0   laptop    5    6    3    4    3    8    6           35\n",
            "1    phone   10   12   11    9   13   15   14           84\n",
            "2   tablet    4    5    2    3    2    6    4           26\n",
            "3   camera    2    3    1    2    5    5    3           21\n",
            "4  headset    8    9    7    6   10   11    9           60\n",
            "The best selling product is: phone\n",
            "Average sales per day: Mon    5.8\n",
            "Tue    7.0\n",
            "Wed    4.8\n",
            "Thu    4.8\n",
            "Fri    6.6\n",
            "Sat    9.0\n",
            "Sun    7.2\n",
            "dtype: float64\n",
            "   product  Mon  Tue  Wed  Thu  Fri  Sat  Sun  total sales\n",
            "1    phone   10   12   11    9   13   15   14           84\n",
            "4  headset    8    9    7    6   10   11    9           60\n",
            "0   laptop    5    6    3    4    3    8    6           35\n",
            "2   tablet    4    5    2    3    2    6    4           26\n",
            "3   camera    2    3    1    2    5    5    3           21\n"
          ]
        }
      ]
    },
    {
      "cell_type": "markdown",
      "source": [
        "Exercise-5 Employee Attendance Tracker (HR)"
      ],
      "metadata": {
        "id": "xo2q422UWIcA"
      }
    },
    {
      "cell_type": "code",
      "source": [
        "import pandas as pd\n",
        "data = {\n",
        "    'Employee':['john', 'alice', 'bob', 'mary', 'david'],\n",
        "    'Mon':['P', 'P', 'A', 'P', 'P'],\n",
        "    'Tue':['A', 'P', 'A', 'P', 'P'],\n",
        "    'Wed':['p', 'P', 'A', 'P', 'P'],\n",
        "    'Thu':['P', 'P', 'P', 'A', 'A'],\n",
        "    'Fri':['P', 'A', 'P', 'P', 'A'],\n",
        "\n",
        "}\n",
        "df = pd.DataFrame(data)\n",
        "print(df)\n",
        "df['total attendance'] = df.iloc[:, 1:].apply(lambda x: (x == 'P').sum(), axis=1)\n",
        "print(df)\n",
        "full_attendance = df[df['total attendance'] == 5]\n",
        "absent_counts = df.iloc[:, 1:-1].apply(lambda x: (x != 'P').sum(), axis=1)\n",
        "print(absent_counts)\n",
        "max_absent = absent_counts.idxmax()\n",
        "print(max_absent)\n",
        "sorted_df = df.sort_values(by='total attendance', ascending=False)\n",
        "print(sorted_df)\n"
      ],
      "metadata": {
        "colab": {
          "base_uri": "https://localhost:8080/"
        },
        "id": "XJvm-P8SWhIY",
        "outputId": "6271a7ae-dae8-4dda-82b4-89cb4b602d2a"
      },
      "execution_count": 7,
      "outputs": [
        {
          "output_type": "stream",
          "name": "stdout",
          "text": [
            "  Employee Mon Tue Wed Thu Fri\n",
            "0     john   P   A   p   P   P\n",
            "1    alice   P   P   P   P   A\n",
            "2      bob   A   A   A   P   P\n",
            "3     mary   P   P   P   A   P\n",
            "4    david   P   P   P   A   A\n",
            "  Employee Mon Tue Wed Thu Fri  total attendance\n",
            "0     john   P   A   p   P   P                 3\n",
            "1    alice   P   P   P   P   A                 4\n",
            "2      bob   A   A   A   P   P                 2\n",
            "3     mary   P   P   P   A   P                 4\n",
            "4    david   P   P   P   A   A                 3\n",
            "0    2\n",
            "1    1\n",
            "2    3\n",
            "3    1\n",
            "4    2\n",
            "dtype: int64\n",
            "2\n",
            "  Employee Mon Tue Wed Thu Fri  total attendance\n",
            "1    alice   P   P   P   P   A                 4\n",
            "3     mary   P   P   P   A   P                 4\n",
            "0     john   P   A   p   P   P                 3\n",
            "4    david   P   P   P   A   A                 3\n",
            "2      bob   A   A   A   P   P                 2\n"
          ]
        }
      ]
    },
    {
      "cell_type": "markdown",
      "source": [
        "Exercise- 6 Movie Ratings Analysis(Entertainment)"
      ],
      "metadata": {
        "id": "v4drbuqPcPkl"
      }
    },
    {
      "cell_type": "code",
      "source": [
        "import pandas as pd\n",
        "data = {\n",
        "    'movie':['inception', 'titanic', 'avatar', 'joker', 'dune'],\n",
        "    'Critic_A':[9, 8, 7, 8, 9],\n",
        "    'Critic_B':[8, 7, 8, 9, 7],\n",
        "    'Critic_C':[9, 8, 6, 10, 8]\n",
        "}\n",
        "df = pd.DataFrame(data)\n",
        "print(df)\n",
        "df['Average_Rating'] = df[['Critic_A', 'Critic_B', 'Critic_C']].mean(axis=1)\n",
        "print(df)\n",
        "highest = df.loc[df['Average_Rating'].idxmax(), 'movie']\n",
        "print(highest)\n",
        "lowest = df.loc[df['Average_Rating'].idxmin(), 'movie']\n",
        "print(lowest)\n",
        "sorted_df = df.sort_values(by='Average_Rating', ascending=False)\n",
        "print(sorted_df)"
      ],
      "metadata": {
        "colab": {
          "base_uri": "https://localhost:8080/"
        },
        "id": "7cM67nibcmHv",
        "outputId": "bea4cf3d-7239-4c14-aeb4-14521ce2ed21"
      },
      "execution_count": 9,
      "outputs": [
        {
          "output_type": "stream",
          "name": "stdout",
          "text": [
            "       movie  Critic_A  Critic_B  Critic_C\n",
            "0  inception         9         8         9\n",
            "1    titanic         8         7         8\n",
            "2     avatar         7         8         6\n",
            "3      joker         8         9        10\n",
            "4       dune         9         7         8\n",
            "       movie  Critic_A  Critic_B  Critic_C  Average_Rating\n",
            "0  inception         9         8         9        8.666667\n",
            "1    titanic         8         7         8        7.666667\n",
            "2     avatar         7         8         6        7.000000\n",
            "3      joker         8         9        10        9.000000\n",
            "4       dune         9         7         8        8.000000\n",
            "joker\n",
            "avatar\n",
            "       movie  Critic_A  Critic_B  Critic_C  Average_Rating\n",
            "3      joker         8         9        10        9.000000\n",
            "0  inception         9         8         9        8.666667\n",
            "4       dune         9         7         8        8.000000\n",
            "1    titanic         8         7         8        7.666667\n",
            "2     avatar         7         8         6        7.000000\n"
          ]
        }
      ]
    }
  ]
}